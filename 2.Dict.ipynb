{
 "cells": [
  {
   "cell_type": "markdown",
   "id": "39c58a92",
   "metadata": {},
   "source": [
    "## 2- É Preciso Dominar List to Dict "
   ]
  },
  {
   "cell_type": "markdown",
   "id": "a481f81b",
   "metadata": {},
   "source": [
    "### Zip agrupa pares, mas não faz nada sozinho.\n",
    "#### Aqui crio uma lista usando o zip. 1 lista com dois elementos\n"
   ]
  },
  {
   "cell_type": "code",
   "execution_count": 12,
   "id": "0727ee8a",
   "metadata": {},
   "outputs": [
    {
     "name": "stdout",
     "output_type": "stream",
     "text": [
      "ISSO É UMA LISTA: [('medio', 'camisa'), ('pequeno', 'short'), ('grande', 'camiseta'), ('extra grande', 'saia')]\n",
      "acessando um elemento: ('pequeno', 'short')\n"
     ]
    }
   ],
   "source": [
    "lista1 = ['medio', 'pequeno', 'grande', 'extra grande']\n",
    "lista2 = ['camisa', 'short', 'camiseta', 'saia']\n",
    "\n",
    "objeto = list(zip(lista1,lista2))\n",
    "\n",
    "print(\"ISSO É UMA LISTA:\", objeto )\n",
    "print(\"acessando um elemento:\", objeto[1])\n"
   ]
  },
  {
   "cell_type": "code",
   "execution_count": 19,
   "id": "e330e44e",
   "metadata": {},
   "outputs": [
    {
     "name": "stdout",
     "output_type": "stream",
     "text": [
      "range(1, 5)\n"
     ]
    }
   ],
   "source": [
    "i = range(1,5)\n",
    "print(i)"
   ]
  },
  {
   "cell_type": "markdown",
   "id": "e8880e5d",
   "metadata": {},
   "source": [
    "## Versão comum sem zip. Como fazer um dicionario"
   ]
  },
  {
   "cell_type": "markdown",
   "id": "034ecc3e",
   "metadata": {},
   "source": [
    "## Entenda RANGE ( de o a x )\n",
    "Se lista tem tamnho 4 \n",
    "range é de 0 a 4, \n",
    "(que acaba sendo 3)"
   ]
  },
  {
   "cell_type": "code",
   "execution_count": 31,
   "id": "03519448",
   "metadata": {},
   "outputs": [
    {
     "name": "stdout",
     "output_type": "stream",
     "text": [
      "Atenção\n",
      "Isso aqui é o range 5:\n",
      "range(0, 5)\n",
      "Isso aqui é a iteração do 0 ao até o final da  lista:\n",
      "0\n",
      "1\n",
      "2\n",
      "3\n",
      "isso aqui é o tamanho da lista:\n",
      "4\n"
     ]
    }
   ],
   "source": [
    "lista1 = ['medio', 'pequeno', 'grande', 'extra grande']\n",
    "lista2 = ['camisa', 'short', 'camiseta', 'saia']\n",
    "\n",
    "\n",
    "print(\"Atenção\")\n",
    "print(\"Isso aqui é o range 5:\")\n",
    "print(range(5))\n",
    "print(\"Isso aqui é a iteração do 0 ao até o final da  lista:\")\n",
    "for i in range(len(lista1)):\n",
    "\tprint(i)\n",
    "\n",
    "print(\"isso aqui é o tamanho da lista:\")\n",
    "print(len(lista1))\n"
   ]
  },
  {
   "cell_type": "markdown",
   "id": "3d61af30",
   "metadata": {},
   "source": [
    "Isso aqui não funciona: Pois só estou obtendo o numero do tamanho da lista (gerando numros)"
   ]
  },
  {
   "cell_type": "code",
   "execution_count": null,
   "id": "89af5932",
   "metadata": {},
   "outputs": [],
   "source": [
    "lista1 = ['medio', 'pequeno', 'grande', 'extra grande']\n",
    "lista2 = ['camisa', 'short', 'camiseta', 'saia']\n",
    "\n",
    "\n",
    "#for i in len(lista1):\n",
    "#\tprint(i)\n"
   ]
  },
  {
   "cell_type": "markdown",
   "id": "9f616a38",
   "metadata": {},
   "source": [
    "Aqui uso o valor que eu sei."
   ]
  },
  {
   "cell_type": "code",
   "execution_count": 40,
   "id": "c6ef4172",
   "metadata": {},
   "outputs": [
    {
     "name": "stdout",
     "output_type": "stream",
     "text": [
      "len = 4\n",
      "range = range(0, 4)\n",
      "medio camisa\n",
      "pequeno short\n",
      "grande camiseta\n",
      "extra grande saia\n"
     ]
    }
   ],
   "source": [
    "lista1 = ['medio', 'pequeno', 'grande', 'extra grande']\n",
    "lista2 = ['camisa', 'short', 'camiseta', 'saia']\n",
    "\n",
    "print(\"len =\",len(lista1))\n",
    "print(\"range =\",range(4))\n",
    "for i in range(4):\n",
    "\tprint(lista1[i], lista2[i])"
   ]
  },
  {
   "cell_type": "code",
   "execution_count": 47,
   "id": "67f35c89",
   "metadata": {},
   "outputs": [
    {
     "name": "stdout",
     "output_type": "stream",
     "text": [
      "4\n"
     ]
    }
   ],
   "source": [
    "lista1 = ['medio', 'pequeno', 'grande', 'extra grande']\n",
    "lista2 = ['camisa', 'short', 'camiseta', 'saia']\n",
    "\n",
    "print(len(lista1))\n",
    "#print(lista1[len(lista1)]) Isso nao da certo, pois sao 4 elementos, mas nao tem item com indice 4"
   ]
  },
  {
   "cell_type": "code",
   "execution_count": 48,
   "id": "ec9a4e4a",
   "metadata": {},
   "outputs": [
    {
     "name": "stdout",
     "output_type": "stream",
     "text": [
      "['medio', 'pequeno', 'grande', 'extra grande'] ['camisa', 'short', 'camiseta', 'saia']\n",
      "['medio', 'pequeno', 'grande', 'extra grande'] ['camisa', 'short', 'camiseta', 'saia']\n",
      "['medio', 'pequeno', 'grande', 'extra grande'] ['camisa', 'short', 'camiseta', 'saia']\n",
      "['medio', 'pequeno', 'grande', 'extra grande'] ['camisa', 'short', 'camiseta', 'saia']\n"
     ]
    }
   ],
   "source": [
    "lista1 = ['medio', 'pequeno', 'grande', 'extra grande']\n",
    "lista2 = ['camisa', 'short', 'camiseta', 'saia']\n",
    "\n",
    "for i in range(4):\n",
    "\tprint((lista1),(lista2))"
   ]
  },
  {
   "cell_type": "markdown",
   "id": "17f95038",
   "metadata": {},
   "source": [
    "#### Aqui uso o i , que vai fazer 4 x (mudando 0, 1, 2 ,3,4 )\n",
    "#### virando i indice da lista\n"
   ]
  },
  {
   "cell_type": "code",
   "execution_count": 49,
   "id": "6f7b25a1",
   "metadata": {},
   "outputs": [
    {
     "name": "stdout",
     "output_type": "stream",
     "text": [
      "medio camisa\n",
      "pequeno short\n",
      "grande camiseta\n",
      "extra grande saia\n"
     ]
    }
   ],
   "source": [
    "lista1 = ['medio', 'pequeno', 'grande', 'extra grande']\n",
    "lista2 = ['camisa', 'short', 'camiseta', 'saia']\n",
    "\n",
    "for i in range(4):\n",
    "\tprint((lista1[i]),(lista2[i]))"
   ]
  },
  {
   "cell_type": "code",
   "execution_count": 50,
   "id": "1c3d6dbb",
   "metadata": {},
   "outputs": [
    {
     "name": "stdout",
     "output_type": "stream",
     "text": [
      "0\n",
      "medio camisa\n",
      "1\n",
      "pequeno short\n",
      "2\n",
      "grande camiseta\n",
      "3\n",
      "extra grande saia\n"
     ]
    }
   ],
   "source": [
    "lista1 = ['medio', 'pequeno', 'grande', 'extra grande']\n",
    "lista2 = ['camisa', 'short', 'camiseta', 'saia']\n",
    "\n",
    "for i in range(4):\n",
    "\tprint(i)\n",
    "\tprint((lista1[i]),(lista2[i]))"
   ]
  },
  {
   "cell_type": "markdown",
   "id": "6dc5eec1",
   "metadata": {},
   "source": [
    "## Criando uma lista nova , com as duas"
   ]
  },
  {
   "cell_type": "code",
   "execution_count": 53,
   "id": "dbf145d8",
   "metadata": {},
   "outputs": [
    {
     "name": "stdout",
     "output_type": "stream",
     "text": [
      "[('medio', 'camisa'), ('pequeno', 'short'), ('grande', 'camiseta'), ('extra grande', 'saia')]\n"
     ]
    }
   ],
   "source": [
    "lista1 = ['medio', 'pequeno', 'grande', 'extra grande']\n",
    "lista2 = ['camisa', 'short', 'camiseta', 'saia']\n",
    "\n",
    "zipado = zip(lista1,lista2)\n",
    "listazip= list(zipado)\n",
    "print(listazip)\n"
   ]
  },
  {
   "cell_type": "markdown",
   "id": "96392a08",
   "metadata": {},
   "source": [
    "## Criando dicionario my way"
   ]
  },
  {
   "cell_type": "code",
   "execution_count": 57,
   "id": "9a95294c",
   "metadata": {},
   "outputs": [
    {
     "name": "stdout",
     "output_type": "stream",
     "text": [
      "{'medio': 'camisa', 'pequeno': 'short', 'grande': 'camiseta', 'extra grande': 'saia'}\n"
     ]
    }
   ],
   "source": [
    "lista1 = ['medio', 'pequeno', 'grande', 'extra grande']\n",
    "lista2 = ['camisa', 'short', 'camiseta', 'saia']\n",
    "\n",
    "dicionario ={}\n",
    "\n",
    "for i in range(4):\n",
    "\tdicionario[lista1[i]] = lista2[i]\n",
    "print(dicionario)"
   ]
  },
  {
   "cell_type": "markdown",
   "id": "c7c15941",
   "metadata": {},
   "source": [
    "## Utilizando zip\n"
   ]
  },
  {
   "cell_type": "markdown",
   "id": "a840d58d",
   "metadata": {},
   "source": []
  },
  {
   "cell_type": "code",
   "execution_count": 59,
   "id": "013a9763",
   "metadata": {},
   "outputs": [
    {
     "name": "stdout",
     "output_type": "stream",
     "text": [
      "{'medio': 'camisa', 'pequeno': 'short', 'grande': 'camiseta', 'extra grande': 'saia'}\n"
     ]
    }
   ],
   "source": [
    "lista1 = ['medio', 'pequeno', 'grande', 'extra grande']\n",
    "lista2 = ['camisa', 'short', 'camiseta', 'saia']\n",
    "\n",
    "\n",
    "dicionario = dict(zip(lista1,lista2))\n",
    "print(dicionario)"
   ]
  },
  {
   "cell_type": "markdown",
   "id": "3983838a",
   "metadata": {},
   "source": [
    "#### Para ver todos os keys ou valores, eu preciso de uma lista novamente."
   ]
  },
  {
   "cell_type": "code",
   "execution_count": 60,
   "id": "a3f41868",
   "metadata": {},
   "outputs": [
    {
     "name": "stdout",
     "output_type": "stream",
     "text": [
      "['medio', 'pequeno', 'grande', 'extra grande']\n"
     ]
    }
   ],
   "source": [
    "dicionario ={'medio': 'camisa', 'pequeno': 'short', 'grande': 'camiseta', 'extra grande': 'saia'}\n",
    "\n",
    "print(list(dicionario.keys()))"
   ]
  },
  {
   "cell_type": "code",
   "execution_count": 62,
   "id": "107247eb",
   "metadata": {},
   "outputs": [
    {
     "name": "stdout",
     "output_type": "stream",
     "text": [
      "['camisa', 'short', 'camiseta', 'saia']\n"
     ]
    }
   ],
   "source": [
    "dicionario ={'medio': 'camisa', 'pequeno': 'short', 'grande': 'camiseta', 'extra grande': 'saia'}\n",
    "\n",
    "print(list(dicionario.values()))"
   ]
  },
  {
   "cell_type": "markdown",
   "id": "3a5e1dee",
   "metadata": {},
   "source": [
    "#### Mostrando tudo"
   ]
  },
  {
   "cell_type": "code",
   "execution_count": 63,
   "id": "04b822ed",
   "metadata": {},
   "outputs": [
    {
     "name": "stdout",
     "output_type": "stream",
     "text": [
      "[('medio', 'camisa'), ('pequeno', 'short'), ('grande', 'camiseta'), ('extra grande', 'saia')]\n"
     ]
    }
   ],
   "source": [
    "dicionario ={'medio': 'camisa', 'pequeno': 'short', 'grande': 'camiseta', 'extra grande': 'saia'}\n",
    "\n",
    "print(list(dicionario.items()))"
   ]
  },
  {
   "cell_type": "markdown",
   "id": "6260aed8",
   "metadata": {},
   "source": [
    "## Enumerate (retorna pares)"
   ]
  },
  {
   "cell_type": "code",
   "execution_count": 72,
   "id": "9535ba51",
   "metadata": {},
   "outputs": [
    {
     "name": "stdout",
     "output_type": "stream",
     "text": [
      "0\n",
      "medio\n",
      "1\n",
      "pequeno\n",
      "2\n",
      "grande\n",
      "3\n",
      "extra grande\n"
     ]
    }
   ],
   "source": [
    "lista1 = ['medio', 'pequeno', 'grande', 'extra grande']\n",
    "lista2 = ['camisa', 'short', 'camiseta', 'saia']\n",
    "\n",
    "for x, y in enumerate(lista1):\n",
    "\tprint(x)\n",
    "\tprint(y)"
   ]
  },
  {
   "cell_type": "code",
   "execution_count": 73,
   "id": "381dd8b6",
   "metadata": {},
   "outputs": [
    {
     "name": "stdout",
     "output_type": "stream",
     "text": [
      "0 medio\n",
      "1 pequeno\n",
      "2 grande\n",
      "3 extra grande\n"
     ]
    }
   ],
   "source": [
    "lista1 = ['medio', 'pequeno', 'grande', 'extra grande']\n",
    "lista2 = ['camisa', 'short', 'camiseta', 'saia']\n",
    "\n",
    "for x, y in enumerate(lista1):\n",
    "\tprint(x,y)"
   ]
  },
  {
   "cell_type": "markdown",
   "id": "7a0042ec",
   "metadata": {},
   "source": [
    "### Dicionario nao tem Indice. Como usar um Enumerate\n"
   ]
  },
  {
   "cell_type": "code",
   "execution_count": 79,
   "id": "4093229e",
   "metadata": {},
   "outputs": [
    {
     "name": "stdout",
     "output_type": "stream",
     "text": [
      "0 a 10\n",
      "1 b 20\n",
      "2 c 30\n"
     ]
    }
   ],
   "source": [
    "d = {\"a\": 10, \"b\": 20, \"c\": 30}\n",
    "\n",
    "for x, (y,z) in enumerate(d.items()):\n",
    "\tprint(x,y,z)"
   ]
  }
 ],
 "metadata": {
  "kernelspec": {
   "display_name": "Python 3",
   "language": "python",
   "name": "python3"
  },
  "language_info": {
   "codemirror_mode": {
    "name": "ipython",
    "version": 3
   },
   "file_extension": ".py",
   "mimetype": "text/x-python",
   "name": "python",
   "nbconvert_exporter": "python",
   "pygments_lexer": "ipython3",
   "version": "3.13.2"
  }
 },
 "nbformat": 4,
 "nbformat_minor": 5
}
