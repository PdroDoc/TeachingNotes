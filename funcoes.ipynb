{
 "cells": [
  {
   "cell_type": "markdown",
   "id": "0b6b54ee",
   "metadata": {},
   "source": [
    "## Shorts para sanar Duvidas em Funções\n"
   ]
  },
  {
   "cell_type": "markdown",
   "id": "6750ec7b",
   "metadata": {},
   "source": []
  }
 ],
 "metadata": {
  "language_info": {
   "name": "python"
  }
 },
 "nbformat": 4,
 "nbformat_minor": 5
}
