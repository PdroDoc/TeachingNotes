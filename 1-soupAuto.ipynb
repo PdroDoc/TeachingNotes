{
 "cells": [
  {
   "cell_type": "markdown",
   "id": "39883f47",
   "metadata": {},
   "source": [
    "# BS4 Passo a Passo\n"
   ]
  },
  {
   "cell_type": "code",
   "execution_count": null,
   "id": "83ce2081",
   "metadata": {},
   "outputs": [],
   "source": [
    "import bs4\n",
    "import requests \n",
    "\n",
    "res = requests.get(\"https://www.davidbohmsociety.org/library/\")\n",
    "#res.raise_for_status()\n",
    "\n",
    "objeto = bs4.BeautifulSoup(res.text, 'html.parser')\n",
    "print(type(objeto))\n",
    "print(\"tamanho:\")\n",
    "print(len(objeto))\n",
    "\n",
    "#Forçando acessar uma lista \n",
    "\n",
    "for i, child in enumerate(objeto.contents):\n",
    "    print(i, type(child), repr(child))\n",
    "\n",
    "#ness caso, devolveu tudo! html todo. "
   ]
  },
  {
   "cell_type": "markdown",
   "id": "3b21e552",
   "metadata": {},
   "source": [
    "#### Acima teremos um print de uma lista de 2 elementos\n",
    "1- html type\n",
    "2- todo o conteudo\n"
   ]
  },
  {
   "cell_type": "markdown",
   "id": "2e89a63f",
   "metadata": {},
   "source": []
  },
  {
   "cell_type": "code",
   "execution_count": null,
   "id": "923c148a",
   "metadata": {},
   "outputs": [
    {
     "name": "stdout",
     "output_type": "stream",
     "text": [
      "<class 'bs4.element.ResultSet'>\n",
      "tamanho:\n",
      "3\n"
     ]
    }
   ],
   "source": [
    "import bs4\n",
    "import requests \n",
    "\n",
    "res = requests.get(\"https://www.davidbohmsociety.org/library/\")\n",
    "#res.raise_for_status()\n",
    "\n",
    "objeto = bs4.BeautifulSoup(res.text, 'html.parser')\n",
    "elementos = objeto.select('div')\n",
    "\n",
    "\n",
    "print(type(elementos))\n",
    "print(\"tamanho:\")\n",
    "print(len(elementos))\n",
    "print\n"
   ]
  },
  {
   "cell_type": "markdown",
   "id": "5700680f",
   "metadata": {},
   "source": [
    "## Abaixo recebemos ums \"lista\" de 3 elementos das DIV"
   ]
  },
  {
   "cell_type": "code",
   "execution_count": null,
   "id": "20e665b0",
   "metadata": {},
   "outputs": [
    {
     "name": "stdout",
     "output_type": "stream",
     "text": [
      "<class 'bs4.element.ResultSet'>\n",
      "tamanho:\n",
      "3\n",
      "<div class=\"social-media-links\"><ul><li><a href=\"https://www.youtube.com/c/DavidBohmSociety\">YouTube</a></li><li><a href=\"https://www.patreon.com/davidbohmsociety\">Patreon</a></li><li><a href=\"https://twitter.com/BohmSociety\">Twitter</a></li><li><a href=\"https://www.facebook.com/davidbohmsociety/\">Facebook</a></li></ul></div>\n"
     ]
    }
   ],
   "source": [
    "import bs4\n",
    "import requests \n",
    "\n",
    "res = requests.get(\"https://www.davidbohmsociety.org/library/\")\n",
    "#res.raise_for_status()\n",
    "\n",
    "objeto = bs4.BeautifulSoup(res.text, 'html.parser')\n",
    "elementos = objeto.select('div')\n",
    "\n",
    "\n",
    "print(type(elementos))\n",
    "print(\"tamanho:\")\n",
    "print(len(elementos))\n",
    "\n",
    "print(str(elementos[1]))\n",
    "\n"
   ]
  },
  {
   "cell_type": "markdown",
   "id": "8bfadb2d",
   "metadata": {},
   "source": [
    "## Utilizando o "
   ]
  },
  {
   "cell_type": "code",
   "execution_count": null,
   "id": "35dbba97",
   "metadata": {},
   "outputs": [
    {
     "name": "stdout",
     "output_type": "stream",
     "text": [
      "<class 'bs4.element.ResultSet'>\n",
      "tamanho:\n",
      "3\n",
      "<p>Hosted by Matthew Capowski, <cite><a href=\"/podcast/\">More Important Than Physics</a></cite> is a podcast that we produce for the serious student of Bohm.</p>\n",
      "Hosted by Matthew Capowski, More Important Than Physics is a podcast that we produce for the serious student of Bohm.\n"
     ]
    }
   ],
   "source": [
    "import bs4\n",
    "import requests \n",
    "\n",
    "res = requests.get(\"https://www.davidbohmsociety.org/library/\")\n",
    "#res.raise_for_status()\n",
    "\n",
    "objeto = bs4.BeautifulSoup(res.text, 'html.parser')\n",
    "elementos = objeto.select('p')\n",
    "\n",
    "\n",
    "print(type(elementos))\n",
    "print(\"tamanho:\")\n",
    "print(len(elementos))\n",
    "\n",
    "print(str(elementos[2]))\n",
    "print((elementos[2].get_text()))\n",
    "\n",
    "\n"
   ]
  },
  {
   "cell_type": "markdown",
   "id": "c2bb4c46",
   "metadata": {},
   "source": [
    "## dando Print em todo o resultado."
   ]
  },
  {
   "cell_type": "code",
   "execution_count": null,
   "id": "1ea1973b",
   "metadata": {},
   "outputs": [
    {
     "name": "stdout",
     "output_type": "stream",
     "text": [
      "<class 'bs4.element.ResultSet'>\n",
      "tamanho:\n",
      "3\n",
      "<p>Here we host a small, curated collection of Bohm’s material meeting one or more of the following criteria:</p>\n",
      "<p>Last modified on <time datetime=\"2023-02-24\">February 24, 2023</time></p>\n",
      "<p>Hosted by Matthew Capowski, <cite><a href=\"/podcast/\">More Important Than Physics</a></cite> is a podcast that we produce for the serious student of Bohm.</p>\n"
     ]
    }
   ],
   "source": [
    "import bs4\n",
    "import requests \n",
    "\n",
    "res = requests.get(\"https://www.davidbohmsociety.org/library/\")\n",
    "#res.raise_for_status()\n",
    "\n",
    "objeto = bs4.BeautifulSoup(res.text, 'html.parser')\n",
    "elementos = objeto.select('p')\n",
    "\n",
    "\n",
    "print(type(elementos))\n",
    "print(\"tamanho:\")\n",
    "print(len(elementos))\n",
    "\n",
    "\n",
    "# Dando print na lista que vimos que tem tamnho 3\n",
    "for i in elementos:\n",
    "\tprint(i)\n",
    "\n",
    "\n"
   ]
  },
  {
   "cell_type": "markdown",
   "id": "64837a34",
   "metadata": {},
   "source": [
    "## Testando outro tag - links\n"
   ]
  },
  {
   "cell_type": "code",
   "execution_count": 26,
   "id": "c53c75f4",
   "metadata": {},
   "outputs": [
    {
     "name": "stdout",
     "output_type": "stream",
     "text": [
      "<class 'bs4.element.ResultSet'>\n",
      "tamanho:\n",
      "45\n",
      "[<a class=\"standalone skip-menu-link\" href=\"#content\">Skip to Content</a>, <a aria-label=\"Hide Menu\" class=\"hide-menu-link\" href=\"#\"></a>, <a accesskey=\"h\" href=\"https://www.davidbohmsociety.org/\">David Bohm Society</a>, <a href=\"https://www.davidbohmsociety.org/about/\">About</a>, <a href=\"https://www.davidbohmsociety.org/contact/\">Contact</a>, <a href=\"https://www.davidbohmsociety.org/david-bohm/\">David Bohm</a>, <a accesskey=\"2\" href=\"https://www.davidbohmsociety.org/david-bohm/articles/\">Articles</a>, <a accesskey=\"3\" href=\"https://www.davidbohmsociety.org/david-bohm/audio-and-video/\">Audio &amp; Video</a>, <a accesskey=\"1\" href=\"https://www.davidbohmsociety.org/david-bohm/books/\">Books</a>, <a href=\"https://www.davidbohmsociety.org/join/\">Join</a>]\n"
     ]
    }
   ],
   "source": [
    "import bs4\n",
    "import requests \n",
    "\n",
    "res = requests.get(\"https://www.davidbohmsociety.org/library/\")\n",
    "#res.raise_for_status()\n",
    "\n",
    "objeto = bs4.BeautifulSoup(res.text, 'html.parser')\n",
    "elementos = objeto.select('a')\n",
    "\n",
    "\n",
    "print(type(elementos))\n",
    "print(\"tamanho:\")\n",
    "print(len(elementos))\n",
    "\n",
    "print(elementos[0:10])\n",
    "\n",
    "# Dando print na lista que vimos que tem tamnho 3\n",
    "#for i in elementos:\n",
    "\t#print(i)\n",
    "\n",
    "\n"
   ]
  },
  {
   "cell_type": "markdown",
   "id": "5c66d5bd",
   "metadata": {},
   "source": [
    "## Aprendendo a Salvar Conteudos"
   ]
  },
  {
   "cell_type": "code",
   "execution_count": null,
   "id": "7dddc1ce",
   "metadata": {},
   "outputs": [
    {
     "name": "stdout",
     "output_type": "stream",
     "text": [
      "<class 'bs4.element.ResultSet'>\n",
      "tamanho:\n",
      "45\n"
     ]
    }
   ],
   "source": [
    "import bs4\n",
    "import requests \n",
    "\n",
    "res = requests.get(\"https://www.davidbohmsociety.org/library/\")\n",
    "#res.raise_for_status()\n",
    "\n",
    "objeto = bs4.BeautifulSoup(res.text, 'html.parser')\n",
    "elementos = objeto.select('a')\n",
    "\n",
    "\n",
    "print(type(elementos))\n",
    "print(\"tamanho:\")\n",
    "print(len(elementos))\n",
    "\n",
    "# Salvando Resultados.\n",
    "\n",
    "\n"
   ]
  },
  {
   "cell_type": "markdown",
   "id": "dbed25bc",
   "metadata": {},
   "source": [
    "## Vide Arquivo de Dict e List "
   ]
  },
  {
   "cell_type": "code",
   "execution_count": null,
   "id": "ad12dde5",
   "metadata": {},
   "outputs": [
    {
     "name": "stdout",
     "output_type": "stream",
     "text": [
      "<class 'bs4.element.ResultSet'>\n",
      "tamanho:\n",
      "45\n"
     ]
    },
    {
     "ename": "TypeError",
     "evalue": "slice indices must be integers or None or have an __index__ method",
     "output_type": "error",
     "traceback": [
      "\u001b[0;31m---------------------------------------------------------------------------\u001b[0m",
      "\u001b[0;31mTypeError\u001b[0m                                 Traceback (most recent call last)",
      "Cell \u001b[0;32mIn[5], line 15\u001b[0m\n\u001b[1;32m     12\u001b[0m \u001b[38;5;28mprint\u001b[39m(\u001b[38;5;124m\"\u001b[39m\u001b[38;5;124mtamanho:\u001b[39m\u001b[38;5;124m\"\u001b[39m)\n\u001b[1;32m     13\u001b[0m \u001b[38;5;28mprint\u001b[39m(\u001b[38;5;28mlen\u001b[39m(elementos))\n\u001b[0;32m---> 15\u001b[0m \u001b[38;5;28mprint\u001b[39m(\u001b[43melementos\u001b[49m\u001b[43m[\u001b[49m\u001b[43mi\u001b[49m\u001b[43m:\u001b[49m\u001b[38;5;241;43m10\u001b[39;49m\u001b[43m]\u001b[49m)\n",
      "\u001b[0;31mTypeError\u001b[0m: slice indices must be integers or None or have an __index__ method"
     ]
    }
   ],
   "source": [
    "import bs4\n",
    "import requests \n",
    "\n",
    "res = requests.get(\"https://www.davidbohmsociety.org/library/\")\n",
    "#res.raise_for_status()\n",
    "\n",
    "objeto = bs4.BeautifulSoup(res.text, 'html.parser')\n",
    "elementos = objeto.select('a')\n",
    "\n",
    "\n",
    "print(type(elementos))\n",
    "print(\"tamanho:\")\n",
    "print(len(elementos))\n",
    "\n",
    "print(elementos[0:10])"
   ]
  },
  {
   "cell_type": "markdown",
   "id": "8fb66f39",
   "metadata": {},
   "source": [
    "## listando um numero x de itens"
   ]
  },
  {
   "cell_type": "code",
   "execution_count": 13,
   "id": "82c0bd33",
   "metadata": {},
   "outputs": [
    {
     "name": "stdout",
     "output_type": "stream",
     "text": [
      "<a class=\"standalone skip-menu-link\" href=\"#content\">Skip to Content</a>\n",
      "<a aria-label=\"Hide Menu\" class=\"hide-menu-link\" href=\"#\"></a>\n",
      "<a accesskey=\"h\" href=\"https://www.davidbohmsociety.org/\">David Bohm Society</a>\n",
      "<a href=\"https://www.davidbohmsociety.org/about/\">About</a>\n",
      "<a href=\"https://www.davidbohmsociety.org/contact/\">Contact</a>\n",
      "<a href=\"https://www.davidbohmsociety.org/david-bohm/\">David Bohm</a>\n",
      "<a accesskey=\"2\" href=\"https://www.davidbohmsociety.org/david-bohm/articles/\">Articles</a>\n",
      "<a accesskey=\"3\" href=\"https://www.davidbohmsociety.org/david-bohm/audio-and-video/\">Audio &amp; Video</a>\n",
      "<a accesskey=\"1\" href=\"https://www.davidbohmsociety.org/david-bohm/books/\">Books</a>\n",
      "<a href=\"https://www.davidbohmsociety.org/join/\">Join</a>\n"
     ]
    }
   ],
   "source": [
    "import bs4\n",
    "import requests \n",
    "\n",
    "res = requests.get(\"https://www.davidbohmsociety.org/library/\")\n",
    "#res.raise_for_status()\n",
    "\n",
    "objeto = bs4.BeautifulSoup(res.text, 'html.parser')\n",
    "elementos = objeto.select('a')\n",
    "\n",
    "for i in range(10):\n",
    "\tprint(elementos[i])"
   ]
  },
  {
   "cell_type": "code",
   "execution_count": 14,
   "id": "aaa142c3",
   "metadata": {},
   "outputs": [
    {
     "name": "stdout",
     "output_type": "stream",
     "text": [
      "Skip to Content\n",
      "\n",
      "David Bohm Society\n",
      "About\n",
      "Contact\n",
      "David Bohm\n",
      "Articles\n",
      "Audio & Video\n",
      "Books\n",
      "Join\n"
     ]
    }
   ],
   "source": [
    "import bs4\n",
    "import requests \n",
    "\n",
    "res = requests.get(\"https://www.davidbohmsociety.org/library/\")\n",
    "#res.raise_for_status()\n",
    "\n",
    "objeto = bs4.BeautifulSoup(res.text, 'html.parser')\n",
    "elementos = objeto.select('a')\n",
    "\n",
    "for i in range(10):\n",
    "\tprint(elementos[i].get_text())\n"
   ]
  },
  {
   "cell_type": "markdown",
   "id": "8781fbd2",
   "metadata": {},
   "source": [
    "\t•\tUse .get_text() → quando quiser conteúdo textual.\n",
    "\t•\tUse .get(\"atributo\") → quando quiser um valor de atributo qualquer.\n",
    "\t•\tPode ser qualquer atributo do HTML: href, src, id, class, alt, style, data-* etc.\n",
    "\n",
    "\t"
   ]
  },
  {
   "cell_type": "code",
   "execution_count": 16,
   "id": "6fdfbfcc",
   "metadata": {},
   "outputs": [
    {
     "name": "stdout",
     "output_type": "stream",
     "text": [
      "Skip to Content\n",
      "#content\n",
      "\n",
      "#\n",
      "David Bohm Society\n",
      "https://www.davidbohmsociety.org/\n",
      "About\n",
      "https://www.davidbohmsociety.org/about/\n",
      "Contact\n",
      "https://www.davidbohmsociety.org/contact/\n"
     ]
    }
   ],
   "source": [
    "import bs4\n",
    "import requests \n",
    "\n",
    "res = requests.get(\"https://www.davidbohmsociety.org/library/\")\n",
    "#res.raise_for_status()\n",
    "\n",
    "objeto = bs4.BeautifulSoup(res.text, 'html.parser')\n",
    "elementos = objeto.select('a')\n",
    "\n",
    "for i in range(5):\n",
    "\tprint(elementos[i].get_text())\n",
    "\tprint(elementos[i].get(\"href\"))\n"
   ]
  },
  {
   "cell_type": "markdown",
   "id": "1ca99699",
   "metadata": {},
   "source": []
  },
  {
   "cell_type": "markdown",
   "id": "be99a7e7",
   "metadata": {},
   "source": [
    "### Iniciando o Salvar\n"
   ]
  },
  {
   "cell_type": "code",
   "execution_count": 17,
   "id": "5c1d9aff",
   "metadata": {},
   "outputs": [
    {
     "name": "stdout",
     "output_type": "stream",
     "text": [
      "['Skip to Content', '#content', '', '#', 'David Bohm Society', 'https://www.davidbohmsociety.org/', 'About', 'https://www.davidbohmsociety.org/about/', 'Contact', 'https://www.davidbohmsociety.org/contact/', 'David Bohm', 'https://www.davidbohmsociety.org/david-bohm/', 'Articles', 'https://www.davidbohmsociety.org/david-bohm/articles/', 'Audio & Video', 'https://www.davidbohmsociety.org/david-bohm/audio-and-video/', 'Books', 'https://www.davidbohmsociety.org/david-bohm/books/', 'Join', 'https://www.davidbohmsociety.org/join/']\n"
     ]
    }
   ],
   "source": [
    "import bs4\n",
    "import requests \n",
    "\n",
    "res = requests.get(\"https://www.davidbohmsociety.org/library/\")\n",
    "#res.raise_for_status()\n",
    "\n",
    "objeto = bs4.BeautifulSoup(res.text, 'html.parser')\n",
    "elementos = objeto.select('a')\n",
    "\n",
    "dados = [] \n",
    "\n",
    "#for i in range(10):\n",
    "#\tprint(elementos[i].get_text())\n",
    "#\tprint(elementos[i].get(\"href\"))\n",
    "\n",
    "for i in range(10):\n",
    "\tdados.append(elementos[i].get_text())\n",
    "\tdados.append(elementos[i].get(\"href\"))\n",
    "\n",
    "print(dados)\n",
    "\n",
    "\t"
   ]
  },
  {
   "cell_type": "code",
   "execution_count": 18,
   "id": "be63cf1d",
   "metadata": {},
   "outputs": [
    {
     "name": "stdout",
     "output_type": "stream",
     "text": [
      "Skip to Content\n",
      "#content\n",
      "\n",
      "#\n",
      "David Bohm Society\n",
      "https://www.davidbohmsociety.org/\n",
      "About\n",
      "https://www.davidbohmsociety.org/about/\n",
      "Contact\n",
      "https://www.davidbohmsociety.org/contact/\n",
      "David Bohm\n",
      "https://www.davidbohmsociety.org/david-bohm/\n",
      "Articles\n",
      "https://www.davidbohmsociety.org/david-bohm/articles/\n",
      "Audio & Video\n",
      "https://www.davidbohmsociety.org/david-bohm/audio-and-video/\n",
      "Books\n",
      "https://www.davidbohmsociety.org/david-bohm/books/\n",
      "Join\n",
      "https://www.davidbohmsociety.org/join/\n"
     ]
    }
   ],
   "source": [
    "import bs4\n",
    "import requests \n",
    "\n",
    "res = requests.get(\"https://www.davidbohmsociety.org/library/\")\n",
    "#res.raise_for_status()\n",
    "\n",
    "objeto = bs4.BeautifulSoup(res.text, 'html.parser')\n",
    "elementos = objeto.select('a')\n",
    "\n",
    "dados = [] \n",
    "\n",
    "#for i in range(10):\n",
    "#\tprint(elementos[i].get_text())\n",
    "#\tprint(elementos[i].get(\"href\"))\n",
    "\n",
    "for i in range(10):\n",
    "\tdados.append(elementos[i].get_text())\n",
    "\tdados.append(elementos[i].get(\"href\"))\n",
    "\n",
    "for x in dados:\n",
    "\tprint(x)"
   ]
  },
  {
   "cell_type": "code",
   "execution_count": 19,
   "id": "55e6907c",
   "metadata": {},
   "outputs": [],
   "source": [
    "import bs4\n",
    "import requests \n",
    "\n",
    "res = requests.get(\"https://www.davidbohmsociety.org/library/\")\n",
    "#res.raise_for_status()\n",
    "\n",
    "objeto = bs4.BeautifulSoup(res.text, 'html.parser')\n",
    "elementos = objeto.select('a')\n",
    "\n",
    "dados = [] \n",
    "\n",
    "#for i in range(10):\n",
    "#\tprint(elementos[i].get_text())\n",
    "#\tprint(elementos[i].get(\"href\"))\n",
    "\n",
    "for i in range(10):\n",
    "\tdados.append(elementos[i].get_text())\n",
    "\tdados.append(elementos[i].get(\"href\"))\n",
    "\n",
    "with open(\"saida.md\",\"w\", encoding=\"utf-8\") as s:\n",
    "\tfor x in dados:\n",
    "\t\ts.write(x)"
   ]
  },
  {
   "cell_type": "markdown",
   "id": "db5c9c4f",
   "metadata": {},
   "source": [
    "## Melhorando a Formatação\n"
   ]
  },
  {
   "cell_type": "code",
   "execution_count": 1,
   "id": "352e07a5",
   "metadata": {},
   "outputs": [],
   "source": [
    "import bs4\n",
    "import requests \n",
    "\n",
    "res = requests.get(\"https://www.davidbohmsociety.org/library/\")\n",
    "#res.raise_for_status()\n",
    "\n",
    "objeto = bs4.BeautifulSoup(res.text, 'html.parser')\n",
    "elementos = objeto.select('a')\n",
    "\n",
    "dados = [] \n",
    "\n",
    "#for i in range(10):\n",
    "#\tprint(elementos[i].get_text())\n",
    "#\tprint(elementos[i].get(\"href\"))\n",
    "\n",
    "for i in range(10):\n",
    "\tdados.append(elementos[i].get_text())\n",
    "\tdados.append(elementos[i].get(\"href\"))\n",
    "\n",
    "with open(\"saida2.md\",\"w\", encoding=\"utf-8\") as s:\n",
    "\tfor x in dados:\n",
    "\t\ts.write(f\"-{x}\\n\")"
   ]
  },
  {
   "cell_type": "markdown",
   "id": "eb46b43f",
   "metadata": {},
   "source": [
    "## Tabalhando com CSV"
   ]
  },
  {
   "cell_type": "markdown",
   "id": "b1348d51",
   "metadata": {},
   "source": []
  },
  {
   "cell_type": "code",
   "execution_count": null,
   "id": "2d2d5320",
   "metadata": {},
   "outputs": [
    {
     "name": "stdout",
     "output_type": "stream",
     "text": [
      "['Skip to Content', '#content', '', '#', 'David Bohm Society', 'https://www.davidbohmsociety.org/', 'About', 'https://www.davidbohmsociety.org/about/', 'Contact', 'https://www.davidbohmsociety.org/contact/', 'David Bohm', 'https://www.davidbohmsociety.org/david-bohm/', 'Articles', 'https://www.davidbohmsociety.org/david-bohm/articles/', 'Audio & Video', 'https://www.davidbohmsociety.org/david-bohm/audio-and-video/', 'Books', 'https://www.davidbohmsociety.org/david-bohm/books/', 'Join', 'https://www.davidbohmsociety.org/join/']\n"
     ]
    }
   ],
   "source": [
    "import bs4\n",
    "import requests \n",
    "import csv\n",
    "\n",
    "\n",
    "res = requests.get(\"https://www.davidbohmsociety.org/library/\")\n",
    "#res.raise_for_status()\n",
    "\n",
    "objeto = bs4.BeautifulSoup(res.text, 'html.parser')\n",
    "elementos = objeto.select('a')\n",
    "\n",
    "dados = [] \n",
    "\n",
    "#for i in range(10):\n",
    "#\tprint(elementos[i].get_text())\n",
    "#\tprint(elementos[i].get(\"href\"))\n",
    "\n",
    "dados =[]\n",
    "\n",
    "for i in range(10):\n",
    "\tinfo = elementos[i].get_text()\n",
    "\tlink = elementos[i].get(\"href\")\n",
    "\tdados.append(info)\n",
    "\tdados.append(link)\n",
    "print(dados)\n",
    "\n"
   ]
  },
  {
   "cell_type": "code",
   "execution_count": 9,
   "id": "9d89631e",
   "metadata": {},
   "outputs": [],
   "source": [
    "import bs4\n",
    "import requests \n",
    "\n",
    "res = requests.get(\"https://www.davidbohmsociety.org/library/\")\n",
    "#res.raise_for_status()\n",
    "\n",
    "objeto = bs4.BeautifulSoup(res.text, 'html.parser')\n",
    "elementos = objeto.select('a')\n",
    "\n",
    "dados = [] \n",
    "\n",
    "#for i in range(10):\n",
    "#\tprint(elementos[i].get_text())\n",
    "#\tprint(elementos[i].get(\"href\"))\n",
    "\n",
    "dados =[]\n",
    "\n",
    "for i in range(10):\n",
    "\tinfo = elementos[i].get_text()\n",
    "\tlink = elementos[i].get(\"href\")\n",
    "\tdados.append(info)\n",
    "\tdados.append(link)\n",
    "\n",
    "with open(\"saida3.md\", \"w\", encoding=\"utf-8\") as s:\n",
    "\tfor x in dados:\n",
    "\t\ts.write(f\"{x}\\n\")\n"
   ]
  }
 ],
 "metadata": {
  "kernelspec": {
   "display_name": "Python 3",
   "language": "python",
   "name": "python3"
  },
  "language_info": {
   "codemirror_mode": {
    "name": "ipython",
    "version": 3
   },
   "file_extension": ".py",
   "mimetype": "text/x-python",
   "name": "python",
   "nbconvert_exporter": "python",
   "pygments_lexer": "ipython3",
   "version": "3.13.2"
  }
 },
 "nbformat": 4,
 "nbformat_minor": 5
}
